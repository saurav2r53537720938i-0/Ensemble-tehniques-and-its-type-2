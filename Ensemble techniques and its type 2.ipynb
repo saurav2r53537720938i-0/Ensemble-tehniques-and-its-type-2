{
 "cells": [
  {
   "cell_type": "markdown",
   "id": "87201fe0-2cfd-47d3-ad44-3c2c0a706eae",
   "metadata": {},
   "source": [
    "Bagging(Boottstrap Aggregating) reduce overfitting in decsion tree by reduces overfitting in decsion tree by creating multiple bootstrap samples random samples with replacement from orginal dataset and traning a seprate decsion tree on each sample. Since each tree is trained on a diffrent subset of the data they may capture diffrent patterns and noise in the data when making predctions baggingg average the predction of all tree or takes a majority vote for classfication which tends to reduce variamce to a single decsion tree"
   ]
  },
  {
   "cell_type": "markdown",
   "id": "cab61169-0d39-4895-80fd-7eea4006c431",
   "metadata": {},
   "source": [
    "* Advantage of bagging:\n",
    "1. Robustness to noisy data\n",
    "2. Efficency\n",
    "3. Interpretablity\n",
    "4. Ablity to handle high-dimensional data\n",
    "* Disadvantage of bagging:\n",
    "1. Assumption of indpendence\n",
    "2. Limited expressiveness\n",
    "3. Sensitivity to feature quality\n",
    "4. handling of continious variables"
   ]
  },
  {
   "cell_type": "markdown",
   "id": "53f7b007-e39e-46aa-88ab-b42068b14021",
   "metadata": {},
   "source": [
    "The choice of base learner can signficantly affect the bias-variance trade off in bagging\n",
    "1. High Variance base learner\n",
    "2. High bias base learner\n",
    "3. Optimal balance\n",
    "4. Ensemble performance"
   ]
  },
  {
   "cell_type": "markdown",
   "id": "3b20a4c6-74ee-4b71-9823-e18da5d85a5b",
   "metadata": {},
   "source": [
    "Yes,Bagging can be used for both classfication and regression task however there are some diffrence in how bagging is applied in each case:\n",
    "1. Classfication\n",
    "2. Regression\n",
    "In summary while the fundamental principle of bagging remains the same for both classfi"
   ]
  }
 ],
 "metadata": {
  "kernelspec": {
   "display_name": "Python 3 (ipykernel)",
   "language": "python",
   "name": "python3"
  },
  "language_info": {
   "codemirror_mode": {
    "name": "ipython",
    "version": 3
   },
   "file_extension": ".py",
   "mimetype": "text/x-python",
   "name": "python",
   "nbconvert_exporter": "python",
   "pygments_lexer": "ipython3",
   "version": "3.10.8"
  }
 },
 "nbformat": 4,
 "nbformat_minor": 5
}
